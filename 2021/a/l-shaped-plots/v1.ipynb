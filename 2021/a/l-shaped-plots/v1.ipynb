{
 "metadata": {
  "language_info": {
   "codemirror_mode": {
    "name": "ipython",
    "version": 3
   },
   "file_extension": ".py",
   "mimetype": "text/x-python",
   "name": "python",
   "nbconvert_exporter": "python",
   "pygments_lexer": "ipython3",
   "version": "3.9.0-final"
  },
  "orig_nbformat": 2,
  "kernelspec": {
   "name": "python390jvsc74a57bd0c2b4dc5fc027e2d284cf449886138e5ec7edee85eb241db8b4b4918945ba20f2",
   "display_name": "Python 3.9.0 64-bit ('3.9.0')"
  }
 },
 "nbformat": 4,
 "nbformat_minor": 2,
 "cells": [
  {
   "cell_type": "code",
   "execution_count": 40,
   "metadata": {},
   "outputs": [],
   "source": [
    "def get_range(f, s, ranges):\n",
    "    if f >= len(ranges):\n",
    "        return None\n",
    "    for mrange in ranges[f]:\n",
    "        minr, maxr = mrange\n",
    "        if minr <= s and s <= maxr:\n",
    "            return mrange\n",
    "    return None\n",
    "\n",
    "\n",
    "def get_rrange(r, c, rranges):\n",
    "    return get_range(r, c, rranges)\n",
    "\n",
    "\n",
    "def get_crange(r, c, cranges):\n",
    "    return get_range(c, r, cranges)\n",
    "\n",
    "\n",
    "def get_ranges(r, c, rranges, cranges):\n",
    "    rrange = get_rrange(r, c, rranges)\n",
    "    crange = get_crange(r, c, cranges)\n",
    "    return rrange, crange"
   ]
  },
  {
   "cell_type": "code",
   "execution_count": 41,
   "metadata": {},
   "outputs": [],
   "source": [
    "rranges = [\n",
    "    [[2, 3], [7, 10]],\n",
    "    [],\n",
    "    [[4, 5], [6, 6]]\n",
    "]"
   ]
  },
  {
   "cell_type": "code",
   "execution_count": 43,
   "metadata": {},
   "outputs": [
    {
     "output_type": "stream",
     "name": "stdout",
     "text": [
      "None\n"
     ]
    }
   ],
   "source": [
    "something = get_rrange(1, 11, rranges)\n",
    "print(something)"
   ]
  },
  {
   "cell_type": "code",
   "execution_count": 24,
   "metadata": {},
   "outputs": [
    {
     "output_type": "execute_result",
     "data": {
      "text/plain": [
       "[[[2, 3], [7, 15]], [[4, 5], [6, 6]]]"
      ]
     },
     "metadata": {},
     "execution_count": 24
    }
   ],
   "source": [
    "rranges"
   ]
  },
  {
   "cell_type": "code",
   "execution_count": 27,
   "metadata": {},
   "outputs": [],
   "source": [
    "something = [[] for _ in range(3)]"
   ]
  },
  {
   "cell_type": "code",
   "execution_count": 28,
   "metadata": {},
   "outputs": [
    {
     "output_type": "execute_result",
     "data": {
      "text/plain": [
       "[[], [], []]"
      ]
     },
     "metadata": {},
     "execution_count": 28
    }
   ],
   "source": [
    "something"
   ]
  },
  {
   "cell_type": "code",
   "execution_count": null,
   "metadata": {},
   "outputs": [],
   "source": []
  }
 ]
}